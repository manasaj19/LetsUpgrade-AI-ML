{
 "cells": [
  {
   "cell_type": "markdown",
   "metadata": {},
   "source": [
    "### Assignment-3\n",
    "\n",
    "Manasa J"
   ]
  },
  {
   "cell_type": "markdown",
   "metadata": {},
   "source": [
    "#### Question 1 :\n",
    "Write a Python program to find the first 20 non-even prime natural numbers. "
   ]
  },
  {
   "cell_type": "code",
   "execution_count": 106,
   "metadata": {},
   "outputs": [
    {
     "name": "stdout",
     "output_type": "stream",
     "text": [
      "3\n",
      "5\n",
      "7\n",
      "11\n",
      "13\n",
      "17\n",
      "19\n",
      "23\n",
      "29\n",
      "31\n",
      "37\n",
      "41\n",
      "43\n",
      "47\n",
      "53\n",
      "59\n",
      "61\n",
      "67\n",
      "71\n",
      "73\n"
     ]
    }
   ],
   "source": [
    "N=100\n",
    "c=0\n",
    "for i in range(1,N+1):\n",
    "    if i >1:\n",
    "        for j in range(2, i):\n",
    "            if i% j == 0:\n",
    "                break\n",
    "        else:\n",
    "            if c!=21:\n",
    "                c+=1\n",
    "                if i%2 !=0: # for non even number\n",
    "                    print(i)"
   ]
  },
  {
   "cell_type": "markdown",
   "metadata": {},
   "source": [
    "#### Question 2 :\n",
    "Write a Python program to implement 15 functions of string. "
   ]
  },
  {
   "cell_type": "code",
   "execution_count": 122,
   "metadata": {},
   "outputs": [
    {
     "name": "stdout",
     "output_type": "stream",
     "text": [
      "Lets UpgardeDoing Assignment Day 5\n",
      "lets upgarde\n",
      "DOING ASSIGNMENT DAY 5\n",
      "False\n",
      "False\n",
      "lETS uPGARDE\n",
      "Moing Assignment May 5\n",
      "1\n",
      "11\n",
      "[' ', ' ', ' ', '5', 'A', 'D', 'D', 'a', 'e', 'g', 'g', 'i', 'i', 'm', 'n', 'n', 'n', 'o', 's', 's', 't', 'y']\n",
      "Doing Assignment Day 5\n",
      "13\n",
      "False\n",
      "['Doi', 'g Assig', 'me', 't Day 5']\n",
      "Doing assignment day 5\n",
      "2\n",
      "False\n",
      "False\n",
      "['Doing', 'Assignment', 'Day', '5']\n"
     ]
    }
   ],
   "source": [
    "example1 = \"Lets Upgarde\"\n",
    "example2 = \"Doing Assignment Day 5\"\n",
    "\n",
    "print(example1+example2) # concatinate\n",
    "print(example1.lower())\n",
    "print(example2.upper())\n",
    "print(example1.isalpha()) #  result is False because space is in example1\n",
    "print(example1.isalnum())\n",
    "print(example1.swapcase())\n",
    "print(example2.replace(\"D\",\"M\"))\n",
    "print(example1.find('e'))\n",
    "print(example1.rfind('e'))\n",
    "print(sorted(example2))\n",
    "print(example2.title())\n",
    "print(example2.index('e'))\n",
    "print(example2.isspace())\n",
    "print(example2.split('n'))\n",
    "print(example2.capitalize())\n",
    "print(example2.count('g'))\n",
    "print(example1.isdecimal())\n",
    "print(example1.isidentifier())\n",
    "print(example2.split(' '))"
   ]
  },
  {
   "cell_type": "markdown",
   "metadata": {},
   "source": [
    "#### Question 3: \n",
    "Write a Python program to check if the given string is a Palindrome or Anagram or None of them. Display the message accordingly to the user. "
   ]
  },
  {
   "cell_type": "code",
   "execution_count": 128,
   "metadata": {},
   "outputs": [
    {
     "name": "stdout",
     "output_type": "stream",
     "text": [
      "Given string is a Palindrome\n"
     ]
    }
   ],
   "source": [
    "string = \"manam\"\n",
    "string2 = 'heart'\n",
    "\n",
    "string_reverse = string[::-1]\n",
    "if string.lower() == string_reverse.lower():\n",
    "    print(\"Given string is a Palindrome\")\n",
    "elif  sorted(string)== sorted(string2):\n",
    "    print(\"Given string is Anagram\")\n",
    "else:\n",
    "    print(\"None of them\")"
   ]
  },
  {
   "cell_type": "markdown",
   "metadata": {},
   "source": [
    "#### Question 4: \n",
    "Write a Python's user defined function that removes all the additional characters from the string and converts it finally to lower case using built-in lower(). eg: If the string is \"Dr. Darshan Ingle @AI-ML Trainer\", then the output be \"drdarshaningleaimltrainer\"."
   ]
  },
  {
   "cell_type": "code",
   "execution_count": 123,
   "metadata": {},
   "outputs": [
    {
     "data": {
      "text/plain": [
       "'drdarshaningleaimltrainer'"
      ]
     },
     "execution_count": 123,
     "metadata": {},
     "output_type": "execute_result"
    }
   ],
   "source": [
    "def clean_String(string):\n",
    "    result =\"\"\n",
    "    for i in string:\n",
    "        if i.isalnum():\n",
    "            result = result + i.lower()\n",
    "    return result\n",
    "           \n",
    "clean_String(\"Dr. Darshan Ingle @AI-ML Trainer\")    "
   ]
  },
  {
   "cell_type": "code",
   "execution_count": null,
   "metadata": {},
   "outputs": [],
   "source": []
  }
 ],
 "metadata": {
  "kernelspec": {
   "display_name": "Python 3",
   "language": "python",
   "name": "python3"
  },
  "language_info": {
   "codemirror_mode": {
    "name": "ipython",
    "version": 3
   },
   "file_extension": ".py",
   "mimetype": "text/x-python",
   "name": "python",
   "nbconvert_exporter": "python",
   "pygments_lexer": "ipython3",
   "version": "3.7.3"
  }
 },
 "nbformat": 4,
 "nbformat_minor": 2
}
