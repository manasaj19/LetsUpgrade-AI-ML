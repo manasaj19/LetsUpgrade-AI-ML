{
 "cells": [
  {
   "cell_type": "markdown",
   "metadata": {},
   "source": [
    "Day 6"
   ]
  },
  {
   "cell_type": "markdown",
   "metadata": {},
   "source": [
    "### Question 1: \n",
    "Assuming that we have some email addresses in the \"username@companyname.com\" format, please write program to print the company name of a given email address. Both user names and company names are composed of letters only. \n",
    " \n",
    "Input Format: The first line of the input contains an email address. Output Format: Print the company name in single line. Example; Input: john@google.com Output: google "
   ]
  },
  {
   "cell_type": "code",
   "execution_count": 51,
   "metadata": {},
   "outputs": [
    {
     "name": "stdout",
     "output_type": "stream",
     "text": [
      "enter email address:manasa@google.com\n"
     ]
    }
   ],
   "source": [
    "user_input= input(\"enter email address: \")"
   ]
  },
  {
   "cell_type": "code",
   "execution_count": 52,
   "metadata": {},
   "outputs": [
    {
     "name": "stdout",
     "output_type": "stream",
     "text": [
      "google\n"
     ]
    }
   ],
   "source": [
    "name = user_input.split('@')\n",
    "company = name[1].split('.')\n",
    "print(company[0])"
   ]
  },
  {
   "cell_type": "markdown",
   "metadata": {},
   "source": [
    "### Question 2:\n",
    "Write a program that accepts a comma-separated sequence of words as input and prints the words in a comma separated sequence after sorting them alphabetically. \n",
    " \n",
    "Input Format: The first line of input contains words separated by the comma. Output Format: Print the sorted words separated by the comma. Example: Input: without,hello,bag,world Output: bag,hello,without,world "
   ]
  },
  {
   "cell_type": "code",
   "execution_count": 53,
   "metadata": {},
   "outputs": [
    {
     "name": "stdout",
     "output_type": "stream",
     "text": [
      "Enter comma-separated sequence of words: hello,i,am,human,not,robot\n"
     ]
    }
   ],
   "source": [
    "input_line = input(\"Enter comma-separated sequence of words: \")"
   ]
  },
  {
   "cell_type": "code",
   "execution_count": 54,
   "metadata": {},
   "outputs": [
    {
     "name": "stdout",
     "output_type": "stream",
     "text": [
      "am,hello,human,i,not,robot\n"
     ]
    }
   ],
   "source": [
    "list_format=input_line.split(',')\n",
    "print(','.join(sorted(list_format)))"
   ]
  },
  {
   "cell_type": "markdown",
   "metadata": {},
   "source": [
    "### Question 3: \n",
    "Create your own Jupyter Notebook for Sets. Reference link: https://www.w3schools.com/python/python_sets.asp"
   ]
  },
  {
   "cell_type": "code",
   "execution_count": 185,
   "metadata": {},
   "outputs": [
    {
     "name": "stdout",
     "output_type": "stream",
     "text": [
      "{'d', 'e', 'a', 'b', 'c'}\n"
     ]
    }
   ],
   "source": [
    "\n",
    "A = {'a','b','c','d','e'}\n",
    "B={1,2,3}\n",
    "C = {'b','c','f','g'}\n",
    "\n",
    "print(A)"
   ]
  },
  {
   "cell_type": "code",
   "execution_count": 186,
   "metadata": {},
   "outputs": [
    {
     "name": "stdout",
     "output_type": "stream",
     "text": [
      "d\n",
      "e\n",
      "a\n",
      "b\n",
      "c\n"
     ]
    }
   ],
   "source": [
    "# itter over the set\n",
    "\n",
    "for i in A:\n",
    "    print(i)"
   ]
  },
  {
   "cell_type": "code",
   "execution_count": 181,
   "metadata": {},
   "outputs": [
    {
     "name": "stdout",
     "output_type": "stream",
     "text": [
      "Add : {1, 'f', 'd', 2, 3, 'e', 'b', 'c'}\n"
     ]
    }
   ],
   "source": [
    "# to add the elements to the set\n",
    "A.add('f')\n",
    "print(\"Add :\",A)\n"
   ]
  },
  {
   "cell_type": "code",
   "execution_count": 187,
   "metadata": {},
   "outputs": [
    {
     "name": "stdout",
     "output_type": "stream",
     "text": [
      "Update:  {1, 2, 'd', 3, 'e', 'a', 'b', 'c'}\n"
     ]
    }
   ],
   "source": [
    "# merge the two set\n",
    "A.update(B)\n",
    "print(\"Update: \",A)"
   ]
  },
  {
   "cell_type": "code",
   "execution_count": 188,
   "metadata": {},
   "outputs": [
    {
     "name": "stdout",
     "output_type": "stream",
     "text": [
      "Difference : {'d', 'e', 'a', 'b', 'c'}\n"
     ]
    }
   ],
   "source": [
    "# to find the Difference between two set\n",
    "print(\"Difference :\", A - B)"
   ]
  },
  {
   "cell_type": "code",
   "execution_count": 189,
   "metadata": {},
   "outputs": [
    {
     "name": "stdout",
     "output_type": "stream",
     "text": [
      "Intersection : {'b', 'c'}\n"
     ]
    }
   ],
   "source": [
    "# to find the intersection elements of two set\n",
    "print(\"Intersection :\", A.intersection(C))"
   ]
  },
  {
   "cell_type": "code",
   "execution_count": 191,
   "metadata": {},
   "outputs": [
    {
     "name": "stdout",
     "output_type": "stream",
     "text": [
      "Discard : {1, 2, 'd', 3, 'e', 'b', 'c'}\n"
     ]
    }
   ],
   "source": [
    "# to remove specified elemtens\n",
    "A.discard('a')\n",
    "print(\"Discard :\", A)"
   ]
  },
  {
   "cell_type": "code",
   "execution_count": 190,
   "metadata": {},
   "outputs": [
    {
     "name": "stdout",
     "output_type": "stream",
     "text": [
      "isdisjoint : False\n"
     ]
    }
   ],
   "source": [
    "# to check if two sets have intersection or not\n",
    "print(\"isdisjoint :\", A.isdisjoint(B))"
   ]
  },
  {
   "cell_type": "code",
   "execution_count": 192,
   "metadata": {},
   "outputs": [
    {
     "name": "stdout",
     "output_type": "stream",
     "text": [
      "False\n"
     ]
    }
   ],
   "source": [
    "# Return True if all items set A are present in set B\n",
    "print(A.issubset(B))"
   ]
  },
  {
   "cell_type": "code",
   "execution_count": 195,
   "metadata": {},
   "outputs": [
    {
     "data": {
      "text/plain": [
       "'d'"
      ]
     },
     "execution_count": 195,
     "metadata": {},
     "output_type": "execute_result"
    }
   ],
   "source": [
    "#Remove a random item from the set\n",
    "A.pop()"
   ]
  },
  {
   "cell_type": "code",
   "execution_count": 198,
   "metadata": {},
   "outputs": [
    {
     "data": {
      "text/plain": [
       "{3, 'b', 'c', 'e', 'f', 'g'}"
      ]
     },
     "execution_count": 198,
     "metadata": {},
     "output_type": "execute_result"
    }
   ],
   "source": [
    "#Return a set that contains all items from both sets, duplicates are excluded\n",
    "A.union(C)"
   ]
  },
  {
   "cell_type": "markdown",
   "metadata": {},
   "source": [
    "### Question 4:  \n",
    "Given a list of n-1 numbers ranging from 1 to n, your task is to find the missing number. There are no duplicates. \n",
    " \n",
    "Input Format: The first line contains n-1 numbers with each number separated by a space. Output Format: Print the missing number Example: Input:1 2 4 6 3 7 8 Output:5\n",
    "\n",
    "Explanation: In the above list of numbers 5 is missing and hence 5 is the input "
   ]
  },
  {
   "cell_type": "code",
   "execution_count": 107,
   "metadata": {},
   "outputs": [
    {
     "name": "stdout",
     "output_type": "stream",
     "text": [
      "Enter the number: 1 2 3 5 6 7 8 9\n"
     ]
    }
   ],
   "source": [
    "input_num= input(\"Enter the number: \")"
   ]
  },
  {
   "cell_type": "code",
   "execution_count": 110,
   "metadata": {},
   "outputs": [
    {
     "name": "stdout",
     "output_type": "stream",
     "text": [
      "4\n"
     ]
    }
   ],
   "source": [
    "num=[]\n",
    "for i in input_num.split(' '):\n",
    "    num.append(int(i))\n",
    "\n",
    "for i in range(1,len(num)+2):\n",
    "    if i not in num:\n",
    "        print(i)\n"
   ]
  },
  {
   "cell_type": "code",
   "execution_count": 151,
   "metadata": {},
   "outputs": [
    {
     "name": "stdout",
     "output_type": "stream",
     "text": [
      "{4}\n"
     ]
    }
   ],
   "source": [
    "# using set\n",
    "\n",
    "B=[]\n",
    "A = []\n",
    "for i in input_num.split(' '):\n",
    "    A.append(int(i))\n",
    "    \n",
    "for i in range(1,len(num)+2):\n",
    "    B.append(i)\n",
    "\n",
    "print(set(set_B).difference(set(set_A)))"
   ]
  },
  {
   "cell_type": "markdown",
   "metadata": {},
   "source": [
    "### Question 5: \n",
    "With a given list L, write a program to print this list L after removing all duplicate values with original order reserved. \n",
    " \n",
    "Example: If the input list is 12 24 35 24 88 120 155 88 120 155 \n",
    " \n",
    "Then the output should be 12 24 35 88 120 155 \n",
    " \n",
    "Explanation: Third, seventh and ninth element of the list L has been removed because it was already present. Input Format: In one line take the elements of the list L with each element separated by a space. Output Format: Print the elements of the modified list in one line with each element separated by a space. Example: Input: 12 24 35 24 Output: 12 24 35 "
   ]
  },
  {
   "cell_type": "code",
   "execution_count": 77,
   "metadata": {},
   "outputs": [
    {
     "name": "stdout",
     "output_type": "stream",
     "text": [
      "Enter numbers: 1 2 3 4 3 4 5 3 6\n"
     ]
    }
   ],
   "source": [
    "input_list = input(\"Enter numbers: \")"
   ]
  },
  {
   "cell_type": "code",
   "execution_count": 83,
   "metadata": {},
   "outputs": [
    {
     "name": "stdout",
     "output_type": "stream",
     "text": [
      "1 2 3 4 5 6\n"
     ]
    }
   ],
   "source": [
    "inputs = input_list.split(' ')\n",
    "\n",
    "new_list=[]\n",
    "new_str = \"\"\n",
    "for i in inputs:\n",
    "    if i not in new_list:\n",
    "        new_list.append(i)\n",
    "        \n",
    "print(' '.join(new_list))"
   ]
  },
  {
   "cell_type": "code",
   "execution_count": null,
   "metadata": {},
   "outputs": [],
   "source": []
  }
 ],
 "metadata": {
  "kernelspec": {
   "display_name": "Python 3",
   "language": "python",
   "name": "python3"
  },
  "language_info": {
   "codemirror_mode": {
    "name": "ipython",
    "version": 3
   },
   "file_extension": ".py",
   "mimetype": "text/x-python",
   "name": "python",
   "nbconvert_exporter": "python",
   "pygments_lexer": "ipython3",
   "version": "3.7.3"
  }
 },
 "nbformat": 4,
 "nbformat_minor": 2
}
