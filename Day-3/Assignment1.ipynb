{
 "cells": [
  {
   "cell_type": "markdown",
   "metadata": {},
   "source": [
    "#### Assignment- 1\n",
    "\n",
    "Manasa J"
   ]
  },
  {
   "cell_type": "markdown",
   "metadata": {},
   "source": [
    "Question 1 : Write a program to subtract two complex numbers in Python."
   ]
  },
  {
   "cell_type": "code",
   "execution_count": 15,
   "metadata": {},
   "outputs": [
    {
     "name": "stdout",
     "output_type": "stream",
     "text": [
      "(-10-2j)\n"
     ]
    }
   ],
   "source": [
    "a= (10+3j)\n",
    "b=(20+5j)\n",
    "\n",
    "print(a-b)"
   ]
  },
  {
   "cell_type": "markdown",
   "metadata": {},
   "source": [
    "Question 2 : Write a program to find the fourth root of a number."
   ]
  },
  {
   "cell_type": "code",
   "execution_count": 3,
   "metadata": {},
   "outputs": [
    {
     "name": "stdout",
     "output_type": "stream",
     "text": [
      "2.0\n"
     ]
    }
   ],
   "source": [
    "a=16\n",
    "print(a**(1/4))"
   ]
  },
  {
   "cell_type": "markdown",
   "metadata": {},
   "source": [
    "Question 3: Write a program to swap two numbers in Python with the help of a temporary variable. "
   ]
  },
  {
   "cell_type": "code",
   "execution_count": 8,
   "metadata": {},
   "outputs": [
    {
     "name": "stdout",
     "output_type": "stream",
     "text": [
      "before swap 10 20\n",
      "after swap 20 10\n"
     ]
    }
   ],
   "source": [
    "num1 = 10\n",
    "num2 = 20\n",
    "temp = 0\n",
    "print(\"before swap\",num1, num2)\n",
    "\n",
    "temp = num1\n",
    "num1 = num2\n",
    "num2 = temp\n",
    "\n",
    "print(\"after swap\",num1, num2)"
   ]
  },
  {
   "cell_type": "markdown",
   "metadata": {},
   "source": [
    "Question 4: Write a program to swap two numbers in Python without using a temporary variable."
   ]
  },
  {
   "cell_type": "code",
   "execution_count": 16,
   "metadata": {},
   "outputs": [
    {
     "name": "stdout",
     "output_type": "stream",
     "text": [
      "before swap 10 15\n",
      "after swap 15 10\n"
     ]
    }
   ],
   "source": [
    "a=10\n",
    "b=15\n",
    "print(\"before swap\",a,b)\n",
    "\n",
    "a,b=b,a\n",
    "print(\"after swap\",a,b)"
   ]
  },
  {
   "cell_type": "markdown",
   "metadata": {},
   "source": [
    "Question 5: Write a program to convert fahrenheit to kelvin and celsius both. "
   ]
  },
  {
   "cell_type": "code",
   "execution_count": 14,
   "metadata": {},
   "outputs": [
    {
     "name": "stdout",
     "output_type": "stream",
     "text": [
      "temperature in Fahrenheit 32 °F\n",
      "temperature in Kelvin 273.15 K\n",
      "temperature in Celsius 0.0 °C\n"
     ]
    }
   ],
   "source": [
    "temp_in_fahenheit = 32\n",
    "\n",
    "kelvin = (temp_in_fahenheit - 32)* 5/9 + 273.15\n",
    "\n",
    "celsius = (temp_in_fahenheit - 32) * 5/9\n",
    "\n",
    "print(\"temperature in Fahrenheit\",temp_in_fahenheit,\"°F\")\n",
    "print(\"temperature in Kelvin\",kelvin,\"K\")\n",
    "print(\"temperature in Celsius\",celsius,\"°C\")"
   ]
  },
  {
   "cell_type": "markdown",
   "metadata": {},
   "source": [
    "Question 6: Write a program to demonstrate all the available data types in Python. Hint: Use type() function. "
   ]
  },
  {
   "cell_type": "code",
   "execution_count": 19,
   "metadata": {},
   "outputs": [
    {
     "name": "stdout",
     "output_type": "stream",
     "text": [
      "<class 'int'>\n",
      "<class 'float'>\n",
      "<class 'bool'>\n",
      "<class 'complex'>\n",
      "<class 'str'>\n",
      "<class 'dict'>\n",
      "<class 'list'>\n",
      "<class 'set'>\n",
      "<class 'tuple'>\n"
     ]
    }
   ],
   "source": [
    "print(type(1))\n",
    "print(type(1.2))\n",
    "print(type(True))\n",
    "print(type(10+2j))\n",
    "print(type(\"Hello\"))\n",
    "print(type({1:\"abc\",2:\"efg\"}))\n",
    "print(type([1,2,3,4]))\n",
    "print(type({1,2,3}))\n",
    "print(type((1,2,3)))"
   ]
  },
  {
   "cell_type": "markdown",
   "metadata": {},
   "source": [
    "Question 7: Create a Markdown cell in jupyter and list the steps discussed in the session by Dr. Darshan Ingle sir to create Github profile and upload Githubs Assignment link. "
   ]
  },
  {
   "cell_type": "markdown",
   "metadata": {},
   "source": [
    "- Create github account and login to github account using URL www.github.com.\n",
    "- Go to repository section and click new to create new repository.\n",
    "- Name the repository as \"LetsUpgrade AI-ML\"\n",
    "- Add description as Assignments\n",
    "- keep the repository as public.\n",
    "- create repository.\n",
    "- Go to your system and create a folder named as Day3.\n",
    "- Inside Day3 folder create new .ipynb file and write your assignment codes inside .ipynb file and save.\n",
    "- Go back to your github and click on \"LetsUpgrade AI-ML\" repository.\n",
    "- Drag and drop the folder Day3 and drop on the \"LetsUpgrade AI-ML\" repository in browser from your system.\n",
    "- Once files are added click on commit changes.\n",
    "- Now go in Day3 folder of \"LetsUpgrade AI-ML\" repository and copy URL from the browser.\n",
    "- Go to \"Assignment Submit Form : https://bit.ly/aimlassignment \" (google form).\n",
    "- Enter Registered E-mail, Name, Phone Number and paste the copied github URL in the \"Give Github URL\" section and click submit."
   ]
  },
  {
   "cell_type": "code",
   "execution_count": null,
   "metadata": {},
   "outputs": [],
   "source": []
  }
 ],
 "metadata": {
  "kernelspec": {
   "display_name": "Python 3",
   "language": "python",
   "name": "python3"
  },
  "language_info": {
   "codemirror_mode": {
    "name": "ipython",
    "version": 3
   },
   "file_extension": ".py",
   "mimetype": "text/x-python",
   "name": "python",
   "nbconvert_exporter": "python",
   "pygments_lexer": "ipython3",
   "version": "3.7.3"
  }
 },
 "nbformat": 4,
 "nbformat_minor": 2
}
